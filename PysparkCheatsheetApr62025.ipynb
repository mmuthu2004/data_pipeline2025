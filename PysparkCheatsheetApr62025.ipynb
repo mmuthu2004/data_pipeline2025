{
  "nbformat": 4,
  "nbformat_minor": 0,
  "metadata": {
    "colab": {
      "provenance": [],
      "authorship_tag": "ABX9TyP0cB+9vdgN9QNB/cziZezG",
      "include_colab_link": true
    },
    "kernelspec": {
      "name": "python3",
      "display_name": "Python 3"
    },
    "language_info": {
      "name": "python"
    }
  },
  "cells": [
    {
      "cell_type": "markdown",
      "metadata": {
        "id": "view-in-github",
        "colab_type": "text"
      },
      "source": [
        "<a href=\"https://colab.research.google.com/github/mmuthu2004/data_pipeline2025/blob/feature%2Fdata-transformation/PysparkCheatsheetApr62025.ipynb\" target=\"_parent\"><img src=\"https://colab.research.google.com/assets/colab-badge.svg\" alt=\"Open In Colab\"/></a>"
      ]
    },
    {
      "cell_type": "code",
      "execution_count": 2,
      "metadata": {
        "id": "rvDUbvoRmdlG"
      },
      "outputs": [],
      "source": [
        "from pyspark.sql import SparkSession\n",
        "\n",
        "spark = SparkSession.builder.master(\"local\").appName('Dummy').getOrCreate()\n",
        "\n",
        "# Sample data: List of tuples\n",
        "data = [(\"James\", \"Smith\", \"USA\", 30),\n",
        "        (\"Michael\", \"Jordan\", \"USA\", 32),\n",
        "        (\"Maria\", \"Garcia\", \"USA\", 28),\n",
        "        (\"Juan\", \"Martinez\", \"Spain\", 35)]\n",
        "\n",
        "# Define column names\n",
        "columns = [\"First Name\", \"Last Name\", \"Country\", \"Age\"]\n",
        "\n",
        "# Create DataFrame\n",
        "df = spark.createDataFrame(data, columns)"
      ]
    },
    {
      "cell_type": "code",
      "source": [
        "df.show(1)"
      ],
      "metadata": {
        "colab": {
          "base_uri": "https://localhost:8080/"
        },
        "id": "pPbs02jemyn2",
        "outputId": "f79a0828-42a0-4eea-9084-000b7d4087c5"
      },
      "execution_count": 3,
      "outputs": [
        {
          "output_type": "stream",
          "name": "stdout",
          "text": [
            "+----------+---------+-------+---+\n",
            "|First Name|Last Name|Country|Age|\n",
            "+----------+---------+-------+---+\n",
            "|     James|    Smith|    USA| 30|\n",
            "+----------+---------+-------+---+\n",
            "only showing top 1 row\n",
            "\n"
          ]
        }
      ]
    },
    {
      "cell_type": "code",
      "source": [
        "from google.colab import files\n",
        "\n",
        "# Upload the file\n",
        "uploaded = files.upload()\n"
      ],
      "metadata": {
        "colab": {
          "base_uri": "https://localhost:8080/",
          "height": 108
        },
        "id": "65uPpjtzngHi",
        "outputId": "f7599ad6-0251-4a89-9ceb-89aeb8bab8ef"
      },
      "execution_count": 4,
      "outputs": [
        {
          "output_type": "display_data",
          "data": {
            "text/plain": [
              "<IPython.core.display.HTML object>"
            ],
            "text/html": [
              "\n",
              "     <input type=\"file\" id=\"files-60ad516c-e5ac-4f77-8c8d-25d060001eac\" name=\"files[]\" multiple disabled\n",
              "        style=\"border:none\" />\n",
              "     <output id=\"result-60ad516c-e5ac-4f77-8c8d-25d060001eac\">\n",
              "      Upload widget is only available when the cell has been executed in the\n",
              "      current browser session. Please rerun this cell to enable.\n",
              "      </output>\n",
              "      <script>// Copyright 2017 Google LLC\n",
              "//\n",
              "// Licensed under the Apache License, Version 2.0 (the \"License\");\n",
              "// you may not use this file except in compliance with the License.\n",
              "// You may obtain a copy of the License at\n",
              "//\n",
              "//      http://www.apache.org/licenses/LICENSE-2.0\n",
              "//\n",
              "// Unless required by applicable law or agreed to in writing, software\n",
              "// distributed under the License is distributed on an \"AS IS\" BASIS,\n",
              "// WITHOUT WARRANTIES OR CONDITIONS OF ANY KIND, either express or implied.\n",
              "// See the License for the specific language governing permissions and\n",
              "// limitations under the License.\n",
              "\n",
              "/**\n",
              " * @fileoverview Helpers for google.colab Python module.\n",
              " */\n",
              "(function(scope) {\n",
              "function span(text, styleAttributes = {}) {\n",
              "  const element = document.createElement('span');\n",
              "  element.textContent = text;\n",
              "  for (const key of Object.keys(styleAttributes)) {\n",
              "    element.style[key] = styleAttributes[key];\n",
              "  }\n",
              "  return element;\n",
              "}\n",
              "\n",
              "// Max number of bytes which will be uploaded at a time.\n",
              "const MAX_PAYLOAD_SIZE = 100 * 1024;\n",
              "\n",
              "function _uploadFiles(inputId, outputId) {\n",
              "  const steps = uploadFilesStep(inputId, outputId);\n",
              "  const outputElement = document.getElementById(outputId);\n",
              "  // Cache steps on the outputElement to make it available for the next call\n",
              "  // to uploadFilesContinue from Python.\n",
              "  outputElement.steps = steps;\n",
              "\n",
              "  return _uploadFilesContinue(outputId);\n",
              "}\n",
              "\n",
              "// This is roughly an async generator (not supported in the browser yet),\n",
              "// where there are multiple asynchronous steps and the Python side is going\n",
              "// to poll for completion of each step.\n",
              "// This uses a Promise to block the python side on completion of each step,\n",
              "// then passes the result of the previous step as the input to the next step.\n",
              "function _uploadFilesContinue(outputId) {\n",
              "  const outputElement = document.getElementById(outputId);\n",
              "  const steps = outputElement.steps;\n",
              "\n",
              "  const next = steps.next(outputElement.lastPromiseValue);\n",
              "  return Promise.resolve(next.value.promise).then((value) => {\n",
              "    // Cache the last promise value to make it available to the next\n",
              "    // step of the generator.\n",
              "    outputElement.lastPromiseValue = value;\n",
              "    return next.value.response;\n",
              "  });\n",
              "}\n",
              "\n",
              "/**\n",
              " * Generator function which is called between each async step of the upload\n",
              " * process.\n",
              " * @param {string} inputId Element ID of the input file picker element.\n",
              " * @param {string} outputId Element ID of the output display.\n",
              " * @return {!Iterable<!Object>} Iterable of next steps.\n",
              " */\n",
              "function* uploadFilesStep(inputId, outputId) {\n",
              "  const inputElement = document.getElementById(inputId);\n",
              "  inputElement.disabled = false;\n",
              "\n",
              "  const outputElement = document.getElementById(outputId);\n",
              "  outputElement.innerHTML = '';\n",
              "\n",
              "  const pickedPromise = new Promise((resolve) => {\n",
              "    inputElement.addEventListener('change', (e) => {\n",
              "      resolve(e.target.files);\n",
              "    });\n",
              "  });\n",
              "\n",
              "  const cancel = document.createElement('button');\n",
              "  inputElement.parentElement.appendChild(cancel);\n",
              "  cancel.textContent = 'Cancel upload';\n",
              "  const cancelPromise = new Promise((resolve) => {\n",
              "    cancel.onclick = () => {\n",
              "      resolve(null);\n",
              "    };\n",
              "  });\n",
              "\n",
              "  // Wait for the user to pick the files.\n",
              "  const files = yield {\n",
              "    promise: Promise.race([pickedPromise, cancelPromise]),\n",
              "    response: {\n",
              "      action: 'starting',\n",
              "    }\n",
              "  };\n",
              "\n",
              "  cancel.remove();\n",
              "\n",
              "  // Disable the input element since further picks are not allowed.\n",
              "  inputElement.disabled = true;\n",
              "\n",
              "  if (!files) {\n",
              "    return {\n",
              "      response: {\n",
              "        action: 'complete',\n",
              "      }\n",
              "    };\n",
              "  }\n",
              "\n",
              "  for (const file of files) {\n",
              "    const li = document.createElement('li');\n",
              "    li.append(span(file.name, {fontWeight: 'bold'}));\n",
              "    li.append(span(\n",
              "        `(${file.type || 'n/a'}) - ${file.size} bytes, ` +\n",
              "        `last modified: ${\n",
              "            file.lastModifiedDate ? file.lastModifiedDate.toLocaleDateString() :\n",
              "                                    'n/a'} - `));\n",
              "    const percent = span('0% done');\n",
              "    li.appendChild(percent);\n",
              "\n",
              "    outputElement.appendChild(li);\n",
              "\n",
              "    const fileDataPromise = new Promise((resolve) => {\n",
              "      const reader = new FileReader();\n",
              "      reader.onload = (e) => {\n",
              "        resolve(e.target.result);\n",
              "      };\n",
              "      reader.readAsArrayBuffer(file);\n",
              "    });\n",
              "    // Wait for the data to be ready.\n",
              "    let fileData = yield {\n",
              "      promise: fileDataPromise,\n",
              "      response: {\n",
              "        action: 'continue',\n",
              "      }\n",
              "    };\n",
              "\n",
              "    // Use a chunked sending to avoid message size limits. See b/62115660.\n",
              "    let position = 0;\n",
              "    do {\n",
              "      const length = Math.min(fileData.byteLength - position, MAX_PAYLOAD_SIZE);\n",
              "      const chunk = new Uint8Array(fileData, position, length);\n",
              "      position += length;\n",
              "\n",
              "      const base64 = btoa(String.fromCharCode.apply(null, chunk));\n",
              "      yield {\n",
              "        response: {\n",
              "          action: 'append',\n",
              "          file: file.name,\n",
              "          data: base64,\n",
              "        },\n",
              "      };\n",
              "\n",
              "      let percentDone = fileData.byteLength === 0 ?\n",
              "          100 :\n",
              "          Math.round((position / fileData.byteLength) * 100);\n",
              "      percent.textContent = `${percentDone}% done`;\n",
              "\n",
              "    } while (position < fileData.byteLength);\n",
              "  }\n",
              "\n",
              "  // All done.\n",
              "  yield {\n",
              "    response: {\n",
              "      action: 'complete',\n",
              "    }\n",
              "  };\n",
              "}\n",
              "\n",
              "scope.google = scope.google || {};\n",
              "scope.google.colab = scope.google.colab || {};\n",
              "scope.google.colab._files = {\n",
              "  _uploadFiles,\n",
              "  _uploadFilesContinue,\n",
              "};\n",
              "})(self);\n",
              "</script> "
            ]
          },
          "metadata": {}
        },
        {
          "output_type": "stream",
          "name": "stdout",
          "text": [
            "Saving MOCK_DATA Stocks.csv to MOCK_DATA Stocks.csv\n",
            "Saving MOCK_DATA_Products.csv to MOCK_DATA_Products.csv\n"
          ]
        }
      ]
    },
    {
      "cell_type": "code",
      "source": [
        "df1 = spark.read.csv(\"MOCK_DATA Stocks.csv\")"
      ],
      "metadata": {
        "id": "dENffZZ1nj2E"
      },
      "execution_count": 5,
      "outputs": []
    },
    {
      "cell_type": "markdown",
      "source": [],
      "metadata": {
        "id": "3Cp7x3T-qEFC"
      }
    },
    {
      "cell_type": "code",
      "source": [
        "df1 = spark.read.format(\"csv\").option(\"header\", True).load('MOCK_DATA Stocks.csv')"
      ],
      "metadata": {
        "id": "xnSxQXf1nv_-"
      },
      "execution_count": 6,
      "outputs": []
    },
    {
      "cell_type": "code",
      "source": [
        "df2 = spark.read.format(\"csv\").option(\"header\", True).load('MOCK_DATA_Products.csv')"
      ],
      "metadata": {
        "id": "SQtEKxBtn8J-"
      },
      "execution_count": 7,
      "outputs": []
    },
    {
      "cell_type": "code",
      "source": [
        "df1.show(1)"
      ],
      "metadata": {
        "colab": {
          "base_uri": "https://localhost:8080/"
        },
        "id": "SdZzJzTioLgk",
        "outputId": "9f11b3b7-ba85-4b10-c12a-799128fa8cca"
      },
      "execution_count": 8,
      "outputs": [
        {
          "output_type": "stream",
          "name": "stdout",
          "text": [
            "+---+----------+---------+--------------------+------------+\n",
            "| id|first_name|last_name|       Stock_Company|Stock_amount|\n",
            "+---+----------+---------+--------------------+------------+\n",
            "|  1|   Merissa|   Vischi|Dreyfus High Yiel...|      $6.19 |\n",
            "+---+----------+---------+--------------------+------------+\n",
            "only showing top 1 row\n",
            "\n"
          ]
        }
      ]
    },
    {
      "cell_type": "code",
      "source": [
        "df2.show(2)"
      ],
      "metadata": {
        "colab": {
          "base_uri": "https://localhost:8080/"
        },
        "id": "yBfqLG9aoNnF",
        "outputId": "4e4dab63-bbd3-4821-bc6b-827b12122f92"
      },
      "execution_count": 9,
      "outputs": [
        {
          "output_type": "stream",
          "name": "stdout",
          "text": [
            "+----------+----------+---------+-------------------+------+------------+----------+--------------------+-----+\n",
            "|CustomerID|first_name|last_name|              email|gender|        city|department|             product|price|\n",
            "+----------+----------+---------+-------------------+------+------------+----------+--------------------+-----+\n",
            "|         1|     Cindy|D' Angelo|cdangelo0@nymag.com|Female|Samut Sakhon|  Outdoors|Jam - Strawberry,...|   91|\n",
            "|         2|  Olenolin|  Yarnley|oyarnley1@google.ru|  Male|    Tiantang|     Games|Tea - Darjeeling,...|   75|\n",
            "+----------+----------+---------+-------------------+------+------------+----------+--------------------+-----+\n",
            "only showing top 2 rows\n",
            "\n"
          ]
        }
      ]
    },
    {
      "cell_type": "code",
      "source": [],
      "metadata": {
        "id": "jhMg4ZsGrQ1c"
      },
      "execution_count": null,
      "outputs": []
    },
    {
      "cell_type": "code",
      "source": [
        "from pyspark.sql.functions import concat, lit\n",
        "df3 = df1.withColumn(\"Full_name\", concat(df1.first_name, lit(' '), df1.last_name))"
      ],
      "metadata": {
        "id": "9h8sW_JSovfE"
      },
      "execution_count": 10,
      "outputs": []
    },
    {
      "cell_type": "code",
      "source": [
        "df3.show(3)"
      ],
      "metadata": {
        "colab": {
          "base_uri": "https://localhost:8080/"
        },
        "id": "vyUz2-tUq5PY",
        "outputId": "f32b9e84-1d1a-400f-f420-11549f995513"
      },
      "execution_count": 12,
      "outputs": [
        {
          "output_type": "stream",
          "name": "stdout",
          "text": [
            "+---+----------+---------+--------------------+------------+---------------+\n",
            "| id|first_name|last_name|       Stock_Company|Stock_amount|      Full_name|\n",
            "+---+----------+---------+--------------------+------------+---------------+\n",
            "|  1|   Merissa|   Vischi|Dreyfus High Yiel...|      $6.19 | Merissa Vischi|\n",
            "|  2|      Edan|   Burnel|First Bancorp, In...|    $650.03 |    Edan Burnel|\n",
            "|  3|   Eugenio|  MacKall|American Supercon...|    $594.80 |Eugenio MacKall|\n",
            "+---+----------+---------+--------------------+------------+---------------+\n",
            "only showing top 3 rows\n",
            "\n"
          ]
        }
      ]
    },
    {
      "cell_type": "code",
      "source": [
        "df2.show(1)"
      ],
      "metadata": {
        "colab": {
          "base_uri": "https://localhost:8080/"
        },
        "id": "xdN2MzfKq6GL",
        "outputId": "56b213fb-4fbd-4761-fbfb-ee6e5e99dcf6"
      },
      "execution_count": 13,
      "outputs": [
        {
          "output_type": "stream",
          "name": "stdout",
          "text": [
            "+----------+----------+---------+-------------------+------+------------+----------+--------------------+-----+\n",
            "|CustomerID|first_name|last_name|              email|gender|        city|department|             product|price|\n",
            "+----------+----------+---------+-------------------+------+------------+----------+--------------------+-----+\n",
            "|         1|     Cindy|D' Angelo|cdangelo0@nymag.com|Female|Samut Sakhon|  Outdoors|Jam - Strawberry,...|   91|\n",
            "+----------+----------+---------+-------------------+------+------------+----------+--------------------+-----+\n",
            "only showing top 1 row\n",
            "\n"
          ]
        }
      ]
    },
    {
      "cell_type": "code",
      "source": [
        "df21 = df2.withColumnRenamed(\"first_name\",'fn').withColumnRenamed(\"last_name\",'ln')"
      ],
      "metadata": {
        "id": "wuaU0Fa2s04G"
      },
      "execution_count": 14,
      "outputs": []
    },
    {
      "cell_type": "code",
      "source": [
        "df21 = df2"
      ],
      "metadata": {
        "id": "U51lsT-kwbQs"
      },
      "execution_count": 15,
      "outputs": []
    },
    {
      "cell_type": "code",
      "source": [
        "df21 = df2.withColumn(\"newprice\", df2.price+10)"
      ],
      "metadata": {
        "id": "A_6Uc_tOwb_Z"
      },
      "execution_count": 16,
      "outputs": []
    },
    {
      "cell_type": "code",
      "source": [
        "df21.show(3)"
      ],
      "metadata": {
        "colab": {
          "base_uri": "https://localhost:8080/"
        },
        "id": "59FklTvlwfuQ",
        "outputId": "e4466f5a-c4df-4a36-adbc-5fdb953122f4"
      },
      "execution_count": 17,
      "outputs": [
        {
          "output_type": "stream",
          "name": "stdout",
          "text": [
            "+----------+----------+-----------+--------------------+------+------------+----------+--------------------+-----+--------+\n",
            "|CustomerID|first_name|  last_name|               email|gender|        city|department|             product|price|newprice|\n",
            "+----------+----------+-----------+--------------------+------+------------+----------+--------------------+-----+--------+\n",
            "|         1|     Cindy|  D' Angelo| cdangelo0@nymag.com|Female|Samut Sakhon|  Outdoors|Jam - Strawberry,...|   91|   101.0|\n",
            "|         2|  Olenolin|    Yarnley| oyarnley1@google.ru|  Male|    Tiantang|     Games|Tea - Darjeeling,...|   75|    85.0|\n",
            "|         3|      Etti|Duckinfield|educkinfield2@mys...|Female|     Lucheng|    Beauty|              Garlic|   99|   109.0|\n",
            "+----------+----------+-----------+--------------------+------+------------+----------+--------------------+-----+--------+\n",
            "only showing top 3 rows\n",
            "\n"
          ]
        }
      ]
    },
    {
      "cell_type": "code",
      "source": [
        "df21 = df21.drop(\"newprice\")"
      ],
      "metadata": {
        "id": "Ro4qh2P-wtRy"
      },
      "execution_count": 18,
      "outputs": []
    },
    {
      "cell_type": "code",
      "source": [
        "df21.show(2)"
      ],
      "metadata": {
        "colab": {
          "base_uri": "https://localhost:8080/"
        },
        "id": "4CvEK96fwxli",
        "outputId": "b318b790-105b-4b02-dfde-2dc24eb4f1dd"
      },
      "execution_count": 19,
      "outputs": [
        {
          "output_type": "stream",
          "name": "stdout",
          "text": [
            "+----------+----------+---------+-------------------+------+------------+----------+--------------------+-----+\n",
            "|CustomerID|first_name|last_name|              email|gender|        city|department|             product|price|\n",
            "+----------+----------+---------+-------------------+------+------------+----------+--------------------+-----+\n",
            "|         1|     Cindy|D' Angelo|cdangelo0@nymag.com|Female|Samut Sakhon|  Outdoors|Jam - Strawberry,...|   91|\n",
            "|         2|  Olenolin|  Yarnley|oyarnley1@google.ru|  Male|    Tiantang|     Games|Tea - Darjeeling,...|   75|\n",
            "+----------+----------+---------+-------------------+------+------------+----------+--------------------+-----+\n",
            "only showing top 2 rows\n",
            "\n"
          ]
        }
      ]
    },
    {
      "cell_type": "code",
      "source": [
        "df21 = df21.select(\"first_name\",\"email\",\"gender\")"
      ],
      "metadata": {
        "id": "B12oeMHUwyT8"
      },
      "execution_count": 20,
      "outputs": []
    },
    {
      "cell_type": "code",
      "source": [
        "df21.show(1)"
      ],
      "metadata": {
        "colab": {
          "base_uri": "https://localhost:8080/"
        },
        "id": "SErF0u4aw61q",
        "outputId": "237fd972-be52-438d-c707-8c6fd47072e1"
      },
      "execution_count": 21,
      "outputs": [
        {
          "output_type": "stream",
          "name": "stdout",
          "text": [
            "+----------+-------------------+------+\n",
            "|first_name|              email|gender|\n",
            "+----------+-------------------+------+\n",
            "|     Cindy|cdangelo0@nymag.com|Female|\n",
            "+----------+-------------------+------+\n",
            "only showing top 1 row\n",
            "\n"
          ]
        }
      ]
    },
    {
      "cell_type": "code",
      "source": [
        "df2f = df2.filter(df2.gender == 'Male')\n",
        "df2f.count()"
      ],
      "metadata": {
        "colab": {
          "base_uri": "https://localhost:8080/"
        },
        "id": "-b4mr735xhqk",
        "outputId": "07acb31f-1d54-492d-9234-8bcc61e05315"
      },
      "execution_count": 22,
      "outputs": [
        {
          "output_type": "execute_result",
          "data": {
            "text/plain": [
              "421"
            ]
          },
          "metadata": {},
          "execution_count": 22
        }
      ]
    },
    {
      "cell_type": "code",
      "source": [
        "df2f = df2.where(df2.gender == \"Male\")\n",
        "df2f.count()"
      ],
      "metadata": {
        "colab": {
          "base_uri": "https://localhost:8080/"
        },
        "id": "62sf5H2IyHrT",
        "outputId": "34a760d5-04d3-42ab-8e23-30b6f8b220c0"
      },
      "execution_count": 23,
      "outputs": [
        {
          "output_type": "execute_result",
          "data": {
            "text/plain": [
              "421"
            ]
          },
          "metadata": {},
          "execution_count": 23
        }
      ]
    },
    {
      "cell_type": "code",
      "source": [
        "df2f = df2.filter(df2['gender'] == \"Male\").count()\n",
        "print(df2f)"
      ],
      "metadata": {
        "colab": {
          "base_uri": "https://localhost:8080/"
        },
        "id": "fCeU1QnlyN4T",
        "outputId": "320c0531-5a65-48e0-bb5d-7848d04d90b3"
      },
      "execution_count": 24,
      "outputs": [
        {
          "output_type": "stream",
          "name": "stdout",
          "text": [
            "421\n"
          ]
        }
      ]
    },
    {
      "cell_type": "code",
      "source": [
        "df2s = df2.select(\"email\",\"price\").orderBy(df2['price'].desc())\n",
        "df2s.show(3)"
      ],
      "metadata": {
        "colab": {
          "base_uri": "https://localhost:8080/"
        },
        "id": "F_qIP8GxyWKW",
        "outputId": "55ce041c-b80c-4fe0-f6d7-1c4b38d29767"
      },
      "execution_count": 25,
      "outputs": [
        {
          "output_type": "stream",
          "name": "stdout",
          "text": [
            "+--------------------+-----+\n",
            "|               email|price|\n",
            "+--------------------+-----+\n",
            "|  tbernon41@ning.com|   99|\n",
            "|akarpinski5g@pbs.org|   99|\n",
            "|educkinfield2@mys...|   99|\n",
            "+--------------------+-----+\n",
            "only showing top 3 rows\n",
            "\n"
          ]
        }
      ]
    },
    {
      "cell_type": "code",
      "source": [
        "df2.printSchema()"
      ],
      "metadata": {
        "colab": {
          "base_uri": "https://localhost:8080/"
        },
        "id": "vwaOgDUo3tTP",
        "outputId": "b57161fe-0fe7-4ef2-df25-b97a0e462228"
      },
      "execution_count": 26,
      "outputs": [
        {
          "output_type": "stream",
          "name": "stdout",
          "text": [
            "root\n",
            " |-- CustomerID: string (nullable = true)\n",
            " |-- first_name: string (nullable = true)\n",
            " |-- last_name: string (nullable = true)\n",
            " |-- email: string (nullable = true)\n",
            " |-- gender: string (nullable = true)\n",
            " |-- city: string (nullable = true)\n",
            " |-- department: string (nullable = true)\n",
            " |-- product: string (nullable = true)\n",
            " |-- price: string (nullable = true)\n",
            "\n"
          ]
        }
      ]
    },
    {
      "cell_type": "code",
      "source": [
        "df2sa = df2.orderBy(df2['price'].asc())\n",
        "df2sa.show(2)"
      ],
      "metadata": {
        "colab": {
          "base_uri": "https://localhost:8080/"
        },
        "id": "g5jD_qk23j9A",
        "outputId": "db4f3e1f-c9af-47f7-8871-d261a7088986"
      },
      "execution_count": 27,
      "outputs": [
        {
          "output_type": "stream",
          "name": "stdout",
          "text": [
            "+----------+----------+---------+--------------------+------+-------------+----------+--------------------+-----+\n",
            "|CustomerID|first_name|last_name|               email|gender|         city|department|             product|price|\n",
            "+----------+----------+---------+--------------------+------+-------------+----------+--------------------+-----+\n",
            "|       206|    Briggs|  Shoppee|bshoppee5p@blinkl...|  Male|Souto do Meio|     Music|Lamb - Whole, Frozen|    1|\n",
            "|       449|     Trish|  Antrack|tantrackcg@ustrea...|Female|     Buchanan|Automotive|     Wonton Wrappers|    1|\n",
            "+----------+----------+---------+--------------------+------+-------------+----------+--------------------+-----+\n",
            "only showing top 2 rows\n",
            "\n"
          ]
        }
      ]
    },
    {
      "cell_type": "code",
      "source": [
        "df2dups = df2.dropDuplicates()\n",
        "df2dups = df2.distinct()\n",
        "df2dups = df2.dropDuplicates([\"city\"])\n",
        "df2dups.count()"
      ],
      "metadata": {
        "colab": {
          "base_uri": "https://localhost:8080/"
        },
        "id": "fndAKXhJ4LRS",
        "outputId": "58af4646-3cb3-4cf0-8e67-2a95b3e7af0b"
      },
      "execution_count": 28,
      "outputs": [
        {
          "output_type": "execute_result",
          "data": {
            "text/plain": [
              "978"
            ]
          },
          "metadata": {},
          "execution_count": 28
        }
      ]
    },
    {
      "cell_type": "code",
      "source": [
        "df2city = df2.groupBy(\"city\").count()\n",
        "df2city.select(\"city\",\"count\").filter(df2city[\"count\"]>1).orderBy(df2city[\"count\"].desc()).show()"
      ],
      "metadata": {
        "colab": {
          "base_uri": "https://localhost:8080/"
        },
        "id": "bCKxweBj4U-8",
        "outputId": "f918641a-4345-4103-f05a-7e5b5139e2ba"
      },
      "execution_count": 29,
      "outputs": [
        {
          "output_type": "stream",
          "name": "stdout",
          "text": [
            "+-------------+-----+\n",
            "|         city|count|\n",
            "+-------------+-----+\n",
            "|    Stockholm|    5|\n",
            "|  Montpellier|    3|\n",
            "|  Santa Lucia|    2|\n",
            "|    Trondheim|    2|\n",
            "|San Francisco|    2|\n",
            "|    San Diego|    2|\n",
            "|     Cruzeiro|    2|\n",
            "| Wiyayu Barat|    2|\n",
            "|      El Paso|    2|\n",
            "|    Omsukchan|    2|\n",
            "|  Helsingborg|    2|\n",
            "|      Madimba|    2|\n",
            "| Buenos Aires|    2|\n",
            "|      Yong’an|    2|\n",
            "|         Pejë|    2|\n",
            "|       Persen|    2|\n",
            "|Benito Juarez|    2|\n",
            "|         Jami|    2|\n",
            "+-------------+-----+\n",
            "\n"
          ]
        }
      ]
    },
    {
      "cell_type": "code",
      "source": [
        "dfu1 = df2\n",
        "dfu2 = df2"
      ],
      "metadata": {
        "id": "Vsklw0fA4sK4"
      },
      "execution_count": 30,
      "outputs": []
    },
    {
      "cell_type": "code",
      "source": [
        "dfunion = dfu1.union(dfu2)"
      ],
      "metadata": {
        "id": "SV-Dpe6B5bf4"
      },
      "execution_count": 31,
      "outputs": []
    },
    {
      "cell_type": "code",
      "source": [
        "dfunion.count()"
      ],
      "metadata": {
        "colab": {
          "base_uri": "https://localhost:8080/"
        },
        "id": "Yn9r8ySr5drs",
        "outputId": "a1b06d3f-cb92-428f-edf2-d078aa8b9a3d"
      },
      "execution_count": 32,
      "outputs": [
        {
          "output_type": "execute_result",
          "data": {
            "text/plain": [
              "2000"
            ]
          },
          "metadata": {},
          "execution_count": 32
        }
      ]
    },
    {
      "cell_type": "code",
      "source": [
        "dfdrpdup = dfunion.dropDuplicates()\n",
        "dfdrpdup.count()"
      ],
      "metadata": {
        "colab": {
          "base_uri": "https://localhost:8080/"
        },
        "id": "mXLtWWLb5eoR",
        "outputId": "449d5a29-1a09-464b-ebad-21842b019764"
      },
      "execution_count": 34,
      "outputs": [
        {
          "output_type": "execute_result",
          "data": {
            "text/plain": [
              "1000"
            ]
          },
          "metadata": {},
          "execution_count": 34
        }
      ]
    },
    {
      "cell_type": "code",
      "source": [
        "'''\n",
        "from pyspark.sql.functions import when\n",
        "\n",
        "df = df.withColumn(\n",
        "    \"new_column\",\n",
        "    when(df[\"column1\"] == \"value1\", \"result1\")\n",
        "    .when((df[\"column2\"] > 10) & (df[\"column3\"] < 20), \"result2\")\n",
        "    .otherwise(\"default_result\")\n",
        ")\n",
        "'''\n",
        "from pyspark.sql.functions import when\n",
        "df3case = df2.withColumn(\"pricecat\",\n",
        "                         when(df2['price'] < 25,  \"Low priced\")\n",
        "                         .when ((df2['price'] > 25) & (df2['price'] < 50), \"Medium priced\")\n",
        "                         .when (df2['price'] > 50, \"High Priced\")\n",
        "                         .otherwise(\"No Price\")\n",
        ")\n",
        "\n",
        "df3case.show(2)"
      ],
      "metadata": {
        "colab": {
          "base_uri": "https://localhost:8080/"
        },
        "id": "SDZHzXgRpg06",
        "outputId": "47f2d5d3-aa32-48fd-979e-b99184bc2b4c"
      },
      "execution_count": 41,
      "outputs": [
        {
          "output_type": "stream",
          "name": "stdout",
          "text": [
            "+----------+----------+---------+-------------------+------+------------+----------+--------------------+-----+-----------+\n",
            "|CustomerID|first_name|last_name|              email|gender|        city|department|             product|price|   pricecat|\n",
            "+----------+----------+---------+-------------------+------+------------+----------+--------------------+-----+-----------+\n",
            "|         1|     Cindy|D' Angelo|cdangelo0@nymag.com|Female|Samut Sakhon|  Outdoors|Jam - Strawberry,...|   91|High Priced|\n",
            "|         2|  Olenolin|  Yarnley|oyarnley1@google.ru|  Male|    Tiantang|     Games|Tea - Darjeeling,...|   75|High Priced|\n",
            "+----------+----------+---------+-------------------+------+------------+----------+--------------------+-----+-----------+\n",
            "only showing top 2 rows\n",
            "\n",
            "+----------+----------+---------+-------------------+------+------------+----------+--------------------+-----+-----------+\n",
            "|CustomerID|first_name|last_name|              email|gender|        city|department|             product|price|   pricecat|\n",
            "+----------+----------+---------+-------------------+------+------------+----------+--------------------+-----+-----------+\n",
            "|         1|     Cindy|D' Angelo|cdangelo0@nymag.com|Female|Samut Sakhon|  Outdoors|Jam - Strawberry,...|   91|High Priced|\n",
            "|         2|  Olenolin|  Yarnley|oyarnley1@google.ru|  Male|    Tiantang|     Games|Tea - Darjeeling,...|   75|High Priced|\n",
            "+----------+----------+---------+-------------------+------+------------+----------+--------------------+-----+-----------+\n",
            "only showing top 2 rows\n",
            "\n"
          ]
        }
      ]
    },
    {
      "cell_type": "code",
      "source": [
        "df2.filter(df2['city'].contains(\"do\")).count()"
      ],
      "metadata": {
        "colab": {
          "base_uri": "https://localhost:8080/"
        },
        "id": "ZM-by-U6yWjV",
        "outputId": "ae14a7cd-5b61-46ad-992f-f5f4c72a8696"
      },
      "execution_count": 43,
      "outputs": [
        {
          "output_type": "execute_result",
          "data": {
            "text/plain": [
              "20"
            ]
          },
          "metadata": {},
          "execution_count": 43
        }
      ]
    },
    {
      "cell_type": "code",
      "source": [
        "df2.describe()"
      ],
      "metadata": {
        "colab": {
          "base_uri": "https://localhost:8080/"
        },
        "id": "eA2ojTlvzTTv",
        "outputId": "924476f8-bab4-45df-9521-959e88c466bf"
      },
      "execution_count": 44,
      "outputs": [
        {
          "output_type": "execute_result",
          "data": {
            "text/plain": [
              "DataFrame[summary: string, CustomerID: string, first_name: string, last_name: string, email: string, gender: string, city: string, department: string, product: string, price: string]"
            ]
          },
          "metadata": {},
          "execution_count": 44
        }
      ]
    },
    {
      "cell_type": "code",
      "source": [
        "from pyspark.sql.functions import concat, upper, lower, lit\n",
        "dfcc = df2.select(upper(\"first_name\"))\n",
        "dfcc = df2.select(upper(\"last_name\"), lit(' '), lower(\"first_name\"))\n",
        "dfcc = df2.select(concat(upper(\"last_name\"), lit(' '), lower(\"first_name\")))\n",
        "#dfcc = df2.withColumn(\"Full Name\",concat(upper(\"first_name\"), lit(' '), lower(\"last_name\")))\n",
        "dfcc.show(2)"
      ],
      "metadata": {
        "colab": {
          "base_uri": "https://localhost:8080/"
        },
        "id": "sLVELABC06iR",
        "outputId": "2d2bffb9-9c7c-48bc-be5b-0ea0d0c2cebd"
      },
      "execution_count": 59,
      "outputs": [
        {
          "output_type": "stream",
          "name": "stdout",
          "text": [
            "+----------------------------------------------+\n",
            "|concat(upper(last_name),  , lower(first_name))|\n",
            "+----------------------------------------------+\n",
            "|                               D' ANGELO cindy|\n",
            "|                              YARNLEY olenolin|\n",
            "+----------------------------------------------+\n",
            "only showing top 2 rows\n",
            "\n"
          ]
        }
      ]
    },
    {
      "cell_type": "code",
      "source": [
        "from pyspark.sql.functions import *\n",
        "dftrim = df2.select(trim(col(\"first_name\")))\n",
        "dftrim = df2.select(split(col(\"last_name\"), \" \"))\n",
        "dftrim.show(5)"
      ],
      "metadata": {
        "colab": {
          "base_uri": "https://localhost:8080/"
        },
        "id": "PzuufY_q1Gj7",
        "outputId": "ce48c3fd-46e6-41df-a685-0879f7b7c247"
      },
      "execution_count": 68,
      "outputs": [
        {
          "output_type": "stream",
          "name": "stdout",
          "text": [
            "+-----------------------+\n",
            "|split(last_name,  , -1)|\n",
            "+-----------------------+\n",
            "|           [D', Angelo]|\n",
            "|              [Yarnley]|\n",
            "|          [Duckinfield]|\n",
            "|              [Grundon]|\n",
            "|               [Keatch]|\n",
            "+-----------------------+\n",
            "only showing top 5 rows\n",
            "\n"
          ]
        }
      ]
    },
    {
      "cell_type": "code",
      "source": [
        "dfj = df1.join(df2, df1.id == df2.CustomerID, how = 'inner')\n",
        "dfj.show(2)"
      ],
      "metadata": {
        "colab": {
          "base_uri": "https://localhost:8080/"
        },
        "id": "CIFdwJQt5v9Y",
        "outputId": "2e82c410-48a8-4071-b514-0b67ed164cfd"
      },
      "execution_count": 72,
      "outputs": [
        {
          "output_type": "stream",
          "name": "stdout",
          "text": [
            "+---+----------+---------+--------------------+------------+----------+----------+---------+-------------------+------+------------+----------+--------------------+-----+\n",
            "| id|first_name|last_name|       Stock_Company|Stock_amount|CustomerID|first_name|last_name|              email|gender|        city|department|             product|price|\n",
            "+---+----------+---------+--------------------+------------+----------+----------+---------+-------------------+------+------------+----------+--------------------+-----+\n",
            "|  1|   Merissa|   Vischi|Dreyfus High Yiel...|      $6.19 |         1|     Cindy|D' Angelo|cdangelo0@nymag.com|Female|Samut Sakhon|  Outdoors|Jam - Strawberry,...|   91|\n",
            "|  2|      Edan|   Burnel|First Bancorp, In...|    $650.03 |         2|  Olenolin|  Yarnley|oyarnley1@google.ru|  Male|    Tiantang|     Games|Tea - Darjeeling,...|   75|\n",
            "+---+----------+---------+--------------------+------------+----------+----------+---------+-------------------+------+------------+----------+--------------------+-----+\n",
            "only showing top 2 rows\n",
            "\n"
          ]
        }
      ]
    },
    {
      "cell_type": "code",
      "source": [
        "dfagg = df2.groupBy(df2['department']).count()\n",
        "dfagg = dfagg.filter(dfagg[\"count\"] >= 50).orderBy(dfagg[\"department\"].desc())\n",
        "dfagg.show(5)"
      ],
      "metadata": {
        "colab": {
          "base_uri": "https://localhost:8080/"
        },
        "id": "7jqtwtiy6xSd",
        "outputId": "dadfba74-8a55-4f88-b9e0-f90850c7bcc3"
      },
      "execution_count": 85,
      "outputs": [
        {
          "output_type": "stream",
          "name": "stdout",
          "text": [
            "+----------+-----+\n",
            "|department|count|\n",
            "+----------+-----+\n",
            "|     Music|   57|\n",
            "|      Kids|   53|\n",
            "|   Grocery|   51|\n",
            "| Computers|   50|\n",
            "|     Books|   54|\n",
            "+----------+-----+\n",
            "only showing top 5 rows\n",
            "\n"
          ]
        }
      ]
    },
    {
      "cell_type": "code",
      "source": [
        "from pyspark.sql.window import Window\n",
        "w = Window.partitionBy(\"department\").orderBy(desc(\"price\"))\n",
        "df2 = df2.where(df2['department'].isin(\"Music\", \"Kids\"))\n",
        "df2 = df2.withColumn(\"price\",df2[\"price\"].cast(\"integer\"))\n",
        "df2.show(5)\n",
        "dfw = df2.withColumn(\"rn\", row_number().over(w))\\\n",
        "         .withColumn(\"rnk\", rank().over(w))\\\n",
        "         .withColumn(\"drnk\", dense_rank().over(w))\\\n",
        "         .withColumn(\"lead\", lead(\"price\").over(w))\\\n",
        "         .withColumn(\"lag\", lag(\"price\").over(w))\n",
        "dfw.show(12)\n",
        "\n",
        "dfwdiff = dfw.withColumn(\"pricediff\", dfw[\"lag\"] - dfw[\"lead\"])\n",
        "dfwdiff.show(10)\n"
      ],
      "metadata": {
        "colab": {
          "base_uri": "https://localhost:8080/"
        },
        "id": "cQ-sP4H79Oq0",
        "outputId": "1e988ed3-159f-45e0-8f09-6e58e386295c"
      },
      "execution_count": 114,
      "outputs": [
        {
          "output_type": "stream",
          "name": "stdout",
          "text": [
            "+----------+----------+---------+--------------------+------+-----------+----------+--------------------+-----+\n",
            "|CustomerID|first_name|last_name|               email|gender|       city|department|             product|price|\n",
            "+----------+----------+---------+--------------------+------+-----------+----------+--------------------+-----+\n",
            "|         4|     Kevin|  Grundon|kgrundon3@telegra...|  Male|    Cigenca|      Kids|Chicken Breast Halal|    4|\n",
            "|         6|      Noam|    Goode|        ngoode5@t.co|  Male|Isyangulovo|      Kids|              Sachet|   23|\n",
            "|        14|     Ellis|    Rowen|erowend@aboutads....|  Male|   Vimmerby|     Music|      Fork - Plastic|   13|\n",
            "|        18|     Rocky|    Resun|     rresunh@cnn.com|  Male|Al Ma‘allā’|     Music|Longos - Chicken ...|   28|\n",
            "|        27|   Gunther|    Athey|   gatheyq@fotki.com|  Male|       Woro|     Music|Veal - Chops, Spl...|   60|\n",
            "+----------+----------+---------+--------------------+------+-----------+----------+--------------------+-----+\n",
            "only showing top 5 rows\n",
            "\n",
            "+----------+----------+----------+--------------------+----------+-------------+----------+--------------------+-----+---+---+----+----+----+\n",
            "|CustomerID|first_name| last_name|               email|    gender|         city|department|             product|price| rn|rnk|drnk|lead| lag|\n",
            "+----------+----------+----------+--------------------+----------+-------------+----------+--------------------+-----+---+---+----+----+----+\n",
            "|       364|   Purcell|   Walkley|  pwalkleya3@pbs.org|      Male|     Svalyava|      Kids|   Pate - Peppercorn|   90|  1|  1|   1|  87|NULL|\n",
            "|       300|      Gwen|  Jordison|gjordison8b@amazo...|    Female|     Ialoveni|      Kids|Pastry - Baked Sc...|   87|  2|  2|   2|  85|  90|\n",
            "|        79|    Virgie|  Kowalski|vkowalski26@upenn...|    Female|       Meiyao|      Kids|Soup - Campbellsc...|   85|  3|  3|   3|  81|  87|\n",
            "|       575|     Maddy| McQuillen|mmcquillenfy@dynd...|      Male|   Dzüünbulag|      Kids|Cheese - Parmesan...|   81|  4|  4|   4|  81|  85|\n",
            "|       756|  Harmonia|    Aucock|haucockkz@mashabl...|    Female|        Sūrāb|      Kids|Veal - Brisket, P...|   81|  5|  4|   4|  79|  81|\n",
            "|       820|  Chrystal|    Dorbin|cdorbinmr@blogtal...|    Female|   Mulyoagung|      Kids|Cognac - Courvaisier|   79|  6|  6|   5|  77|  81|\n",
            "|       166|    Cymbre| McGeechan|cmcgeechan4l@inst...|    Female|Góra Kalwaria|      Kids|Dome Lid Clear P9...|   77|  7|  7|   6|  73|  79|\n",
            "|       366|   Quinton|Mettericke|qmetterickea5@go.com|      Male|       Nggesa|      Kids|          Cornstarch|   73|  8|  8|   7|  71|  77|\n",
            "|       720|     Albie|   Kearley|akearleyjz@slate.com|      Male|   Sabugueiro|      Kids|    Miso Paste White|   71|  9|  9|   8|  68|  73|\n",
            "|       806|   Farrell|    Arnatt| farnattmd@exblog.jp|      Male|     Hongmiao|      Kids|      Squash - Acorn|   68| 10| 10|   9|  66|  71|\n",
            "|       357|  Veronica|   Horbath| vhorbath9w@ucla.edu|Non-binary|        Skien|      Kids|Wine - Wyndham Es...|   66| 11| 11|  10|  65|  68|\n",
            "|       536|   Baryram|   Howsden|bhowsdenev@siteme...|      Male|    Taozhuang|      Kids| Bread - Rolls, Corn|   65| 12| 12|  11|  65|  66|\n",
            "+----------+----------+----------+--------------------+----------+-------------+----------+--------------------+-----+---+---+----+----+----+\n",
            "only showing top 12 rows\n",
            "\n",
            "+----------+----------+----------+--------------------+------+-------------+----------+--------------------+-----+---+---+----+----+----+---------+\n",
            "|CustomerID|first_name| last_name|               email|gender|         city|department|             product|price| rn|rnk|drnk|lead| lag|pricediff|\n",
            "+----------+----------+----------+--------------------+------+-------------+----------+--------------------+-----+---+---+----+----+----+---------+\n",
            "|       364|   Purcell|   Walkley|  pwalkleya3@pbs.org|  Male|     Svalyava|      Kids|   Pate - Peppercorn|   90|  1|  1|   1|  87|NULL|     NULL|\n",
            "|       300|      Gwen|  Jordison|gjordison8b@amazo...|Female|     Ialoveni|      Kids|Pastry - Baked Sc...|   87|  2|  2|   2|  85|  90|        5|\n",
            "|        79|    Virgie|  Kowalski|vkowalski26@upenn...|Female|       Meiyao|      Kids|Soup - Campbellsc...|   85|  3|  3|   3|  81|  87|        6|\n",
            "|       575|     Maddy| McQuillen|mmcquillenfy@dynd...|  Male|   Dzüünbulag|      Kids|Cheese - Parmesan...|   81|  4|  4|   4|  81|  85|        4|\n",
            "|       756|  Harmonia|    Aucock|haucockkz@mashabl...|Female|        Sūrāb|      Kids|Veal - Brisket, P...|   81|  5|  4|   4|  79|  81|        2|\n",
            "|       820|  Chrystal|    Dorbin|cdorbinmr@blogtal...|Female|   Mulyoagung|      Kids|Cognac - Courvaisier|   79|  6|  6|   5|  77|  81|        4|\n",
            "|       166|    Cymbre| McGeechan|cmcgeechan4l@inst...|Female|Góra Kalwaria|      Kids|Dome Lid Clear P9...|   77|  7|  7|   6|  73|  79|        6|\n",
            "|       366|   Quinton|Mettericke|qmetterickea5@go.com|  Male|       Nggesa|      Kids|          Cornstarch|   73|  8|  8|   7|  71|  77|        6|\n",
            "|       720|     Albie|   Kearley|akearleyjz@slate.com|  Male|   Sabugueiro|      Kids|    Miso Paste White|   71|  9|  9|   8|  68|  73|        5|\n",
            "|       806|   Farrell|    Arnatt| farnattmd@exblog.jp|  Male|     Hongmiao|      Kids|      Squash - Acorn|   68| 10| 10|   9|  66|  71|        5|\n",
            "+----------+----------+----------+--------------------+------+-------------+----------+--------------------+-----+---+---+----+----+----+---------+\n",
            "only showing top 10 rows\n",
            "\n"
          ]
        }
      ]
    },
    {
      "cell_type": "code",
      "source": [
        "dfw.write.format(\"parquet\").partitionBy(\"gender\").mode(\"overwrite\").save(\"outputfile123\")\n",
        "dfw.write.format(\"parquet\").bucketBy(5,\"CustomerId\").sortBy(\"CustomerId\").saveAsTable(\"outputfilebucket\")\n",
        "import os\n",
        "\n",
        "# Get the current working directory\n",
        "current_directory = os.getcwd()\n",
        "\n",
        "print(\"Current Directory:\", current_directory)\n"
      ],
      "metadata": {
        "colab": {
          "base_uri": "https://localhost:8080/"
        },
        "id": "1vkPCjaSEExl",
        "outputId": "ac44cbab-98fa-4b14-c7a0-7b53ab0dc88d"
      },
      "execution_count": 131,
      "outputs": [
        {
          "output_type": "stream",
          "name": "stdout",
          "text": [
            "Current Directory: /content\n"
          ]
        }
      ]
    },
    {
      "cell_type": "code",
      "source": [
        "dfwdnull = dfwdiff.na.fill(1)\n",
        "dfwdnull.show(1)\n",
        "dfc = dfwdiff.withColumn(\"pcoal\", expr(\"coalesce(pricediff, -1)\"))\n",
        "dfc.show(1)\n"
      ],
      "metadata": {
        "colab": {
          "base_uri": "https://localhost:8080/"
        },
        "id": "ZzYvA8lJHMP-",
        "outputId": "9d579b12-06d5-4590-b6e6-7f60ed5a3ce6"
      },
      "execution_count": 138,
      "outputs": [
        {
          "output_type": "stream",
          "name": "stdout",
          "text": [
            "+----------+----------+---------+------------------+------+--------+----------+-----------------+-----+---+---+----+----+---+---------+\n",
            "|CustomerID|first_name|last_name|             email|gender|    city|department|          product|price| rn|rnk|drnk|lead|lag|pricediff|\n",
            "+----------+----------+---------+------------------+------+--------+----------+-----------------+-----+---+---+----+----+---+---------+\n",
            "|       364|   Purcell|  Walkley|pwalkleya3@pbs.org|  Male|Svalyava|      Kids|Pate - Peppercorn|   90|  1|  1|   1|  87|  1|        1|\n",
            "+----------+----------+---------+------------------+------+--------+----------+-----------------+-----+---+---+----+----+---+---------+\n",
            "only showing top 1 row\n",
            "\n",
            "+----------+----------+---------+------------------+------+--------+----------+-----------------+-----+---+---+----+----+----+---------+-----+\n",
            "|CustomerID|first_name|last_name|             email|gender|    city|department|          product|price| rn|rnk|drnk|lead| lag|pricediff|pcoal|\n",
            "+----------+----------+---------+------------------+------+--------+----------+-----------------+-----+---+---+----+----+----+---------+-----+\n",
            "|       364|   Purcell|  Walkley|pwalkleya3@pbs.org|  Male|Svalyava|      Kids|Pate - Peppercorn|   90|  1|  1|   1|  87|NULL|     NULL|   -1|\n",
            "+----------+----------+---------+------------------+------+--------+----------+-----------------+-----+---+---+----+----+----+---------+-----+\n",
            "only showing top 1 row\n",
            "\n"
          ]
        }
      ]
    },
    {
      "cell_type": "code",
      "source": [
        "from pyspark.sql.functions import lit, expr\n",
        "\n",
        "dfl = df2.select(expr(\"*\"), lit(\"ME\").alias(\"litcol\"))\n",
        "dfl.show(5)"
      ],
      "metadata": {
        "colab": {
          "base_uri": "https://localhost:8080/"
        },
        "id": "kV6uMKTSIPif",
        "outputId": "4942a930-50e1-4c65-ee73-3008e61cff27"
      },
      "execution_count": 140,
      "outputs": [
        {
          "output_type": "stream",
          "name": "stdout",
          "text": [
            "+----------+----------+---------+--------------------+------+-----------+----------+--------------------+-----+------+\n",
            "|CustomerID|first_name|last_name|               email|gender|       city|department|             product|price|litcol|\n",
            "+----------+----------+---------+--------------------+------+-----------+----------+--------------------+-----+------+\n",
            "|         4|     Kevin|  Grundon|kgrundon3@telegra...|  Male|    Cigenca|      Kids|Chicken Breast Halal|    4|    ME|\n",
            "|         6|      Noam|    Goode|        ngoode5@t.co|  Male|Isyangulovo|      Kids|              Sachet|   23|    ME|\n",
            "|        14|     Ellis|    Rowen|erowend@aboutads....|  Male|   Vimmerby|     Music|      Fork - Plastic|   13|    ME|\n",
            "|        18|     Rocky|    Resun|     rresunh@cnn.com|  Male|Al Ma‘allā’|     Music|Longos - Chicken ...|   28|    ME|\n",
            "|        27|   Gunther|    Athey|   gatheyq@fotki.com|  Male|       Woro|     Music|Veal - Chops, Spl...|   60|    ME|\n",
            "+----------+----------+---------+--------------------+------+-----------+----------+--------------------+-----+------+\n",
            "only showing top 5 rows\n",
            "\n"
          ]
        }
      ]
    },
    {
      "cell_type": "code",
      "source": [
        "dfp = df2.groupBy(\"department\").pivot(\"gender\").avg(\"price\")\n",
        "dfp.show(10)"
      ],
      "metadata": {
        "colab": {
          "base_uri": "https://localhost:8080/"
        },
        "id": "AZg1gTp0IlXg",
        "outputId": "b3eddad6-541d-4ac4-c253-840c507b5696"
      },
      "execution_count": 147,
      "outputs": [
        {
          "output_type": "stream",
          "name": "stdout",
          "text": [
            "+----------+-------+------+-----------+------------------+----------+----------+\n",
            "|department|Agender|Female|Genderqueer|              Male|Non-binary|Polygender|\n",
            "+----------+-------+------+-----------+------------------+----------+----------+\n",
            "|     Music|   NULL| 50.04|       62.0|44.758620689655174|      NULL|       3.5|\n",
            "|      Kids|   18.0|  38.0|      19.25|             42.76|      66.0|      NULL|\n",
            "+----------+-------+------+-----------+------------------+----------+----------+\n",
            "\n"
          ]
        }
      ]
    },
    {
      "cell_type": "code",
      "source": [
        "df3case.show(2)\n",
        "dfdt = df3case.select(current_date(), current_timestamp())\n",
        "dfdt.show(2)\n",
        "dfdt.select(date_add(\"current_date\", 5)).show(3)"
      ],
      "metadata": {
        "colab": {
          "base_uri": "https://localhost:8080/"
        },
        "id": "HqeLb5fWJTLc",
        "outputId": "980ab6a5-0d91-4af5-8d84-2e1bc6f04be2"
      },
      "execution_count": 155,
      "outputs": [
        {
          "output_type": "stream",
          "name": "stdout",
          "text": [
            "+----------+----------+---------+-------------------+------+------------+----------+--------------------+-----+-----------+\n",
            "|CustomerID|first_name|last_name|              email|gender|        city|department|             product|price|   pricecat|\n",
            "+----------+----------+---------+-------------------+------+------------+----------+--------------------+-----+-----------+\n",
            "|         1|     Cindy|D' Angelo|cdangelo0@nymag.com|Female|Samut Sakhon|  Outdoors|Jam - Strawberry,...|   91|High Priced|\n",
            "|         2|  Olenolin|  Yarnley|oyarnley1@google.ru|  Male|    Tiantang|     Games|Tea - Darjeeling,...|   75|High Priced|\n",
            "+----------+----------+---------+-------------------+------+------------+----------+--------------------+-----+-----------+\n",
            "only showing top 2 rows\n",
            "\n",
            "+--------------+--------------------+\n",
            "|current_date()| current_timestamp()|\n",
            "+--------------+--------------------+\n",
            "|    2025-04-06|2025-04-06 17:30:...|\n",
            "|    2025-04-06|2025-04-06 17:30:...|\n",
            "+--------------+--------------------+\n",
            "only showing top 2 rows\n",
            "\n",
            "+---------------------------+\n",
            "|date_add(current_date(), 5)|\n",
            "+---------------------------+\n",
            "|                 2025-04-11|\n",
            "|                 2025-04-11|\n",
            "|                 2025-04-11|\n",
            "+---------------------------+\n",
            "only showing top 3 rows\n",
            "\n"
          ]
        }
      ]
    },
    {
      "cell_type": "code",
      "source": [
        "df3case = df3case.replace(\"Female\", \"Male\")\n",
        "df3case.select(\"gender\").distinct().show()"
      ],
      "metadata": {
        "colab": {
          "base_uri": "https://localhost:8080/"
        },
        "id": "tdqv67R9KAVx",
        "outputId": "9fae7c90-d29e-4b62-e418-5d7034af8357"
      },
      "execution_count": 156,
      "outputs": [
        {
          "output_type": "stream",
          "name": "stdout",
          "text": [
            "+-----------+\n",
            "|     gender|\n",
            "+-----------+\n",
            "|Genderqueer|\n",
            "|    Agender|\n",
            "| Polygender|\n",
            "|   Bigender|\n",
            "| Non-binary|\n",
            "|       Male|\n",
            "|Genderfluid|\n",
            "+-----------+\n",
            "\n"
          ]
        }
      ]
    },
    {
      "cell_type": "code",
      "source": [
        "dfwdiff.count()\n",
        "#dfwdiff = dfwdiff.na.drop()\n",
        "#dfwdiff.count()"
      ],
      "metadata": {
        "colab": {
          "base_uri": "https://localhost:8080/"
        },
        "id": "lMNrgM6SKWp-",
        "outputId": "c8b2ce6a-13e7-4136-ea6c-6241470f195c"
      },
      "execution_count": 161,
      "outputs": [
        {
          "output_type": "execute_result",
          "data": {
            "text/plain": [
              "106"
            ]
          },
          "metadata": {},
          "execution_count": 161
        }
      ]
    },
    {
      "cell_type": "code",
      "source": [
        "df2.show(1)\n",
        "dfkids = df2.select(regexp_replace(col(\"department\"),\"Kids\",\"SmallKids\"))\n",
        "dfkids.show(10)\n",
        "\n",
        "df2.count()\n",
        "dfdrop = df2.dropDuplicates(subset = [\"department\",\"gender\"])\n",
        "dfdrop.show()\n",
        "dfdrop.count()"
      ],
      "metadata": {
        "colab": {
          "base_uri": "https://localhost:8080/"
        },
        "id": "ZlJCLL0BKWwk",
        "outputId": "679708a2-2f94-4573-fde5-0f8c5e45d815"
      },
      "execution_count": 167,
      "outputs": [
        {
          "output_type": "stream",
          "name": "stdout",
          "text": [
            "+----------+----------+---------+--------------------+------+-------+----------+--------------------+-----+\n",
            "|CustomerID|first_name|last_name|               email|gender|   city|department|             product|price|\n",
            "+----------+----------+---------+--------------------+------+-------+----------+--------------------+-----+\n",
            "|         4|     Kevin|  Grundon|kgrundon3@telegra...|  Male|Cigenca|      Kids|Chicken Breast Halal|    4|\n",
            "+----------+----------+---------+--------------------+------+-------+----------+--------------------+-----+\n",
            "only showing top 1 row\n",
            "\n",
            "+----------------------------------------------+\n",
            "|regexp_replace(department, Kids, SmallKids, 1)|\n",
            "+----------------------------------------------+\n",
            "|                                     SmallKids|\n",
            "|                                     SmallKids|\n",
            "|                                         Music|\n",
            "|                                         Music|\n",
            "|                                         Music|\n",
            "|                                         Music|\n",
            "|                                     SmallKids|\n",
            "|                                     SmallKids|\n",
            "|                                     SmallKids|\n",
            "|                                         Music|\n",
            "+----------------------------------------------+\n",
            "only showing top 10 rows\n",
            "\n",
            "+----------+----------+----------+--------------------+-----------+-------------+----------+--------------------+-----+\n",
            "|CustomerID|first_name| last_name|               email|     gender|         city|department|             product|price|\n",
            "+----------+----------+----------+--------------------+-----------+-------------+----------+--------------------+-----+\n",
            "|       962|     Lorne|  Corcoran|lcorcoranqp@phoca.cz|    Agender|     Salvador|      Kids|Chips Potato Salt...|   18|\n",
            "|        50|  Jeanelle|    Jentin|jjentin1d@sina.co...|     Female|     Gramaços|      Kids|    Cookie - Oatmeal|   30|\n",
            "|       400|    Nikkie|  Bartelot|nbartelotb3@githu...|Genderqueer|Benito Juarez|      Kids|    V8 - Berry Blend|    2|\n",
            "|         4|     Kevin|   Grundon|kgrundon3@telegra...|       Male|      Cigenca|      Kids|Chicken Breast Halal|    4|\n",
            "|       357|  Veronica|   Horbath| vhorbath9w@ucla.edu| Non-binary|        Skien|      Kids|Wine - Wyndham Es...|   66|\n",
            "|       115|    Nollie|     Eggle| neggle36@devhub.com|     Female|    La Gomera|     Music|        Butter - Pod|   80|\n",
            "|       838|   Tirrell|Giorgietto|tgiorgietton9@blu...|Genderqueer|          Ono|     Music|Squash - Pattypan...|   62|\n",
            "|        14|     Ellis|     Rowen|erowend@aboutads....|       Male|     Vimmerby|     Music|      Fork - Plastic|   13|\n",
            "|       261|    Sondra|   Peagram|speagram78@livein...| Polygender|      El Paso|     Music|    Oysters - Smoked|    5|\n",
            "+----------+----------+----------+--------------------+-----------+-------------+----------+--------------------+-----+\n",
            "\n"
          ]
        },
        {
          "output_type": "execute_result",
          "data": {
            "text/plain": [
              "9"
            ]
          },
          "metadata": {},
          "execution_count": 167
        }
      ]
    },
    {
      "cell_type": "code",
      "source": [],
      "metadata": {
        "id": "JyyO0nSyLFLW"
      },
      "execution_count": null,
      "outputs": []
    }
  ]
}