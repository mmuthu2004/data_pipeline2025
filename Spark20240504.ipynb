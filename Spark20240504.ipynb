{
  "nbformat": 4,
  "nbformat_minor": 0,
  "metadata": {
    "colab": {
      "provenance": [],
      "authorship_tag": "ABX9TyOTbKAVmTescF4QnUm9Jyad",
      "include_colab_link": true
    },
    "kernelspec": {
      "name": "python3",
      "display_name": "Python 3"
    },
    "language_info": {
      "name": "python"
    }
  },
  "cells": [
    {
      "cell_type": "markdown",
      "metadata": {
        "id": "view-in-github",
        "colab_type": "text"
      },
      "source": [
        "<a href=\"https://colab.research.google.com/github/mmuthu2004/data_pipeline2025/blob/feature%2Fdata-transformation/Spark20240504.ipynb\" target=\"_parent\"><img src=\"https://colab.research.google.com/assets/colab-badge.svg\" alt=\"Open In Colab\"/></a>"
      ]
    },
    {
      "cell_type": "code",
      "execution_count": 3,
      "metadata": {
        "id": "rvDUbvoRmdlG"
      },
      "outputs": [],
      "source": [
        "from pyspark.sql import SparkSession\n",
        "\n",
        "spark = SparkSession.builder.master(\"local\").appName('Dummy').getOrCreate()\n",
        "\n",
        "# Sample data: List of tuples\n",
        "data = [(\"James\", \"Smith\", \"USA\", 30),\n",
        "        (\"Michael\", \"Jordan\", \"USA\", 32),\n",
        "        (\"Maria\", \"Garcia\", \"USA\", 28),\n",
        "        (\"Juan\", \"Martinez\", \"Spain\", 35)]\n",
        "\n",
        "# Define column names\n",
        "columns = [\"First Name\", \"Last Name\", \"Country\", \"Age\"]\n",
        "\n",
        "# Create DataFrame\n",
        "df = spark.createDataFrame(data, columns)"
      ]
    },
    {
      "cell_type": "code",
      "source": [
        "df.show(1)"
      ],
      "metadata": {
        "colab": {
          "base_uri": "https://localhost:8080/"
        },
        "id": "pPbs02jemyn2",
        "outputId": "2c0d0cd1-c61c-41da-bc78-31481aae74cd"
      },
      "execution_count": 4,
      "outputs": [
        {
          "output_type": "stream",
          "name": "stdout",
          "text": [
            "+----------+---------+-------+---+\n",
            "|First Name|Last Name|Country|Age|\n",
            "+----------+---------+-------+---+\n",
            "|     James|    Smith|    USA| 30|\n",
            "+----------+---------+-------+---+\n",
            "only showing top 1 row\n",
            "\n"
          ]
        }
      ]
    },
    {
      "cell_type": "code",
      "source": [
        "from google.colab import files\n",
        "\n",
        "# Upload the file\n",
        "uploaded = files.upload()\n"
      ],
      "metadata": {
        "colab": {
          "base_uri": "https://localhost:8080/",
          "height": 108
        },
        "id": "65uPpjtzngHi",
        "outputId": "40d15e5b-8022-4a14-ca71-016c10ae9d68"
      },
      "execution_count": 5,
      "outputs": [
        {
          "output_type": "display_data",
          "data": {
            "text/plain": [
              "<IPython.core.display.HTML object>"
            ],
            "text/html": [
              "\n",
              "     <input type=\"file\" id=\"files-db8b47ca-c2d2-4c51-8613-2b367b7dfa38\" name=\"files[]\" multiple disabled\n",
              "        style=\"border:none\" />\n",
              "     <output id=\"result-db8b47ca-c2d2-4c51-8613-2b367b7dfa38\">\n",
              "      Upload widget is only available when the cell has been executed in the\n",
              "      current browser session. Please rerun this cell to enable.\n",
              "      </output>\n",
              "      <script>// Copyright 2017 Google LLC\n",
              "//\n",
              "// Licensed under the Apache License, Version 2.0 (the \"License\");\n",
              "// you may not use this file except in compliance with the License.\n",
              "// You may obtain a copy of the License at\n",
              "//\n",
              "//      http://www.apache.org/licenses/LICENSE-2.0\n",
              "//\n",
              "// Unless required by applicable law or agreed to in writing, software\n",
              "// distributed under the License is distributed on an \"AS IS\" BASIS,\n",
              "// WITHOUT WARRANTIES OR CONDITIONS OF ANY KIND, either express or implied.\n",
              "// See the License for the specific language governing permissions and\n",
              "// limitations under the License.\n",
              "\n",
              "/**\n",
              " * @fileoverview Helpers for google.colab Python module.\n",
              " */\n",
              "(function(scope) {\n",
              "function span(text, styleAttributes = {}) {\n",
              "  const element = document.createElement('span');\n",
              "  element.textContent = text;\n",
              "  for (const key of Object.keys(styleAttributes)) {\n",
              "    element.style[key] = styleAttributes[key];\n",
              "  }\n",
              "  return element;\n",
              "}\n",
              "\n",
              "// Max number of bytes which will be uploaded at a time.\n",
              "const MAX_PAYLOAD_SIZE = 100 * 1024;\n",
              "\n",
              "function _uploadFiles(inputId, outputId) {\n",
              "  const steps = uploadFilesStep(inputId, outputId);\n",
              "  const outputElement = document.getElementById(outputId);\n",
              "  // Cache steps on the outputElement to make it available for the next call\n",
              "  // to uploadFilesContinue from Python.\n",
              "  outputElement.steps = steps;\n",
              "\n",
              "  return _uploadFilesContinue(outputId);\n",
              "}\n",
              "\n",
              "// This is roughly an async generator (not supported in the browser yet),\n",
              "// where there are multiple asynchronous steps and the Python side is going\n",
              "// to poll for completion of each step.\n",
              "// This uses a Promise to block the python side on completion of each step,\n",
              "// then passes the result of the previous step as the input to the next step.\n",
              "function _uploadFilesContinue(outputId) {\n",
              "  const outputElement = document.getElementById(outputId);\n",
              "  const steps = outputElement.steps;\n",
              "\n",
              "  const next = steps.next(outputElement.lastPromiseValue);\n",
              "  return Promise.resolve(next.value.promise).then((value) => {\n",
              "    // Cache the last promise value to make it available to the next\n",
              "    // step of the generator.\n",
              "    outputElement.lastPromiseValue = value;\n",
              "    return next.value.response;\n",
              "  });\n",
              "}\n",
              "\n",
              "/**\n",
              " * Generator function which is called between each async step of the upload\n",
              " * process.\n",
              " * @param {string} inputId Element ID of the input file picker element.\n",
              " * @param {string} outputId Element ID of the output display.\n",
              " * @return {!Iterable<!Object>} Iterable of next steps.\n",
              " */\n",
              "function* uploadFilesStep(inputId, outputId) {\n",
              "  const inputElement = document.getElementById(inputId);\n",
              "  inputElement.disabled = false;\n",
              "\n",
              "  const outputElement = document.getElementById(outputId);\n",
              "  outputElement.innerHTML = '';\n",
              "\n",
              "  const pickedPromise = new Promise((resolve) => {\n",
              "    inputElement.addEventListener('change', (e) => {\n",
              "      resolve(e.target.files);\n",
              "    });\n",
              "  });\n",
              "\n",
              "  const cancel = document.createElement('button');\n",
              "  inputElement.parentElement.appendChild(cancel);\n",
              "  cancel.textContent = 'Cancel upload';\n",
              "  const cancelPromise = new Promise((resolve) => {\n",
              "    cancel.onclick = () => {\n",
              "      resolve(null);\n",
              "    };\n",
              "  });\n",
              "\n",
              "  // Wait for the user to pick the files.\n",
              "  const files = yield {\n",
              "    promise: Promise.race([pickedPromise, cancelPromise]),\n",
              "    response: {\n",
              "      action: 'starting',\n",
              "    }\n",
              "  };\n",
              "\n",
              "  cancel.remove();\n",
              "\n",
              "  // Disable the input element since further picks are not allowed.\n",
              "  inputElement.disabled = true;\n",
              "\n",
              "  if (!files) {\n",
              "    return {\n",
              "      response: {\n",
              "        action: 'complete',\n",
              "      }\n",
              "    };\n",
              "  }\n",
              "\n",
              "  for (const file of files) {\n",
              "    const li = document.createElement('li');\n",
              "    li.append(span(file.name, {fontWeight: 'bold'}));\n",
              "    li.append(span(\n",
              "        `(${file.type || 'n/a'}) - ${file.size} bytes, ` +\n",
              "        `last modified: ${\n",
              "            file.lastModifiedDate ? file.lastModifiedDate.toLocaleDateString() :\n",
              "                                    'n/a'} - `));\n",
              "    const percent = span('0% done');\n",
              "    li.appendChild(percent);\n",
              "\n",
              "    outputElement.appendChild(li);\n",
              "\n",
              "    const fileDataPromise = new Promise((resolve) => {\n",
              "      const reader = new FileReader();\n",
              "      reader.onload = (e) => {\n",
              "        resolve(e.target.result);\n",
              "      };\n",
              "      reader.readAsArrayBuffer(file);\n",
              "    });\n",
              "    // Wait for the data to be ready.\n",
              "    let fileData = yield {\n",
              "      promise: fileDataPromise,\n",
              "      response: {\n",
              "        action: 'continue',\n",
              "      }\n",
              "    };\n",
              "\n",
              "    // Use a chunked sending to avoid message size limits. See b/62115660.\n",
              "    let position = 0;\n",
              "    do {\n",
              "      const length = Math.min(fileData.byteLength - position, MAX_PAYLOAD_SIZE);\n",
              "      const chunk = new Uint8Array(fileData, position, length);\n",
              "      position += length;\n",
              "\n",
              "      const base64 = btoa(String.fromCharCode.apply(null, chunk));\n",
              "      yield {\n",
              "        response: {\n",
              "          action: 'append',\n",
              "          file: file.name,\n",
              "          data: base64,\n",
              "        },\n",
              "      };\n",
              "\n",
              "      let percentDone = fileData.byteLength === 0 ?\n",
              "          100 :\n",
              "          Math.round((position / fileData.byteLength) * 100);\n",
              "      percent.textContent = `${percentDone}% done`;\n",
              "\n",
              "    } while (position < fileData.byteLength);\n",
              "  }\n",
              "\n",
              "  // All done.\n",
              "  yield {\n",
              "    response: {\n",
              "      action: 'complete',\n",
              "    }\n",
              "  };\n",
              "}\n",
              "\n",
              "scope.google = scope.google || {};\n",
              "scope.google.colab = scope.google.colab || {};\n",
              "scope.google.colab._files = {\n",
              "  _uploadFiles,\n",
              "  _uploadFilesContinue,\n",
              "};\n",
              "})(self);\n",
              "</script> "
            ]
          },
          "metadata": {}
        },
        {
          "output_type": "stream",
          "name": "stdout",
          "text": [
            "Saving MOCK_DATA Stocks.csv to MOCK_DATA Stocks.csv\n",
            "Saving MOCK_DATA_Products.csv to MOCK_DATA_Products.csv\n"
          ]
        }
      ]
    },
    {
      "cell_type": "code",
      "source": [
        "df1 = spark.read.csv(\"MOCK_DATA Stocks.csv\")"
      ],
      "metadata": {
        "id": "dENffZZ1nj2E"
      },
      "execution_count": 6,
      "outputs": []
    },
    {
      "cell_type": "code",
      "source": [
        "df1 = spark.read.format(\"csv\").option(\"header\", True).load('MOCK_DATA Stocks.csv')"
      ],
      "metadata": {
        "id": "xnSxQXf1nv_-"
      },
      "execution_count": 8,
      "outputs": []
    },
    {
      "cell_type": "code",
      "source": [
        "df2 = spark.read.format(\"csv\").option(\"header\", True).load('MOCK_DATA_Products.csv')"
      ],
      "metadata": {
        "id": "SQtEKxBtn8J-"
      },
      "execution_count": 30,
      "outputs": []
    },
    {
      "cell_type": "code",
      "source": [
        "df1.show(1)"
      ],
      "metadata": {
        "colab": {
          "base_uri": "https://localhost:8080/"
        },
        "id": "SdZzJzTioLgk",
        "outputId": "6bd2b6c6-7b0d-4791-8143-caee23f6c91d"
      },
      "execution_count": 11,
      "outputs": [
        {
          "output_type": "stream",
          "name": "stdout",
          "text": [
            "+---+----------+---------+--------------------+------------+\n",
            "| id|first_name|last_name|       Stock_Company|Stock_amount|\n",
            "+---+----------+---------+--------------------+------------+\n",
            "|  1|   Merissa|   Vischi|Dreyfus High Yiel...|      $6.19 |\n",
            "+---+----------+---------+--------------------+------------+\n",
            "only showing top 1 row\n",
            "\n"
          ]
        }
      ]
    },
    {
      "cell_type": "code",
      "source": [
        "df2.show(2)"
      ],
      "metadata": {
        "colab": {
          "base_uri": "https://localhost:8080/"
        },
        "id": "yBfqLG9aoNnF",
        "outputId": "8b06fa88-cc42-4663-e7eb-870a824e7d7a"
      },
      "execution_count": 12,
      "outputs": [
        {
          "output_type": "stream",
          "name": "stdout",
          "text": [
            "+----------+----------+---------+-------------------+------+------------+----------+--------------------+-----+\n",
            "|CustomerID|first_name|last_name|              email|gender|        city|department|             product|price|\n",
            "+----------+----------+---------+-------------------+------+------------+----------+--------------------+-----+\n",
            "|         1|     Cindy|D' Angelo|cdangelo0@nymag.com|Female|Samut Sakhon|  Outdoors|Jam - Strawberry,...|   91|\n",
            "|         2|  Olenolin|  Yarnley|oyarnley1@google.ru|  Male|    Tiantang|     Games|Tea - Darjeeling,...|   75|\n",
            "+----------+----------+---------+-------------------+------+------------+----------+--------------------+-----+\n",
            "only showing top 2 rows\n",
            "\n"
          ]
        }
      ]
    },
    {
      "cell_type": "code",
      "source": [],
      "metadata": {
        "id": "jhMg4ZsGrQ1c"
      },
      "execution_count": null,
      "outputs": []
    },
    {
      "cell_type": "code",
      "source": [
        "from pyspark.sql.functions import concat, lit\n",
        "df3 = df1.withColumn(\"Full_name\", concat(df1.first_name, lit(' '), df1.last_name))"
      ],
      "metadata": {
        "id": "9h8sW_JSovfE"
      },
      "execution_count": 25,
      "outputs": []
    },
    {
      "cell_type": "code",
      "source": [
        "df3.show(3)"
      ],
      "metadata": {
        "colab": {
          "base_uri": "https://localhost:8080/"
        },
        "id": "vyUz2-tUq5PY",
        "outputId": "a5337fe3-62ef-4ab7-b52f-d1f8bd0e984e"
      },
      "execution_count": 26,
      "outputs": [
        {
          "output_type": "stream",
          "name": "stdout",
          "text": [
            "+---+----------+---------+--------------------+------------+---------------+\n",
            "| id|first_name|last_name|       Stock_Company|Stock_amount|      Full_name|\n",
            "+---+----------+---------+--------------------+------------+---------------+\n",
            "|  1|   Merissa|   Vischi|Dreyfus High Yiel...|      $6.19 | Merissa Vischi|\n",
            "|  2|      Edan|   Burnel|First Bancorp, In...|    $650.03 |    Edan Burnel|\n",
            "|  3|   Eugenio|  MacKall|American Supercon...|    $594.80 |Eugenio MacKall|\n",
            "+---+----------+---------+--------------------+------------+---------------+\n",
            "only showing top 3 rows\n",
            "\n"
          ]
        }
      ]
    },
    {
      "cell_type": "code",
      "source": [
        "df2.show(1)"
      ],
      "metadata": {
        "colab": {
          "base_uri": "https://localhost:8080/"
        },
        "id": "xdN2MzfKq6GL",
        "outputId": "bd740593-72d6-4925-db39-89aad27ce19e"
      },
      "execution_count": 31,
      "outputs": [
        {
          "output_type": "stream",
          "name": "stdout",
          "text": [
            "+----------+----------+---------+-------------------+------+------------+----------+--------------------+-----+\n",
            "|CustomerID|first_name|last_name|              email|gender|        city|department|             product|price|\n",
            "+----------+----------+---------+-------------------+------+------------+----------+--------------------+-----+\n",
            "|         1|     Cindy|D' Angelo|cdangelo0@nymag.com|Female|Samut Sakhon|  Outdoors|Jam - Strawberry,...|   91|\n",
            "+----------+----------+---------+-------------------+------+------------+----------+--------------------+-----+\n",
            "only showing top 1 row\n",
            "\n"
          ]
        }
      ]
    },
    {
      "cell_type": "code",
      "source": [
        "df21 = df2.withColumnRenamed(\"first_name\",'fn').withColumnRenamed(\"last_name\",'ln')"
      ],
      "metadata": {
        "id": "wuaU0Fa2s04G"
      },
      "execution_count": 32,
      "outputs": []
    },
    {
      "cell_type": "code",
      "source": [
        "df21 = df2"
      ],
      "metadata": {
        "id": "U51lsT-kwbQs"
      },
      "execution_count": 34,
      "outputs": []
    },
    {
      "cell_type": "code",
      "source": [
        "df21 = df2.withColumn(\"newprice\", df2.price+10)"
      ],
      "metadata": {
        "id": "A_6Uc_tOwb_Z"
      },
      "execution_count": 49,
      "outputs": []
    },
    {
      "cell_type": "code",
      "source": [
        "df21.show(3)"
      ],
      "metadata": {
        "colab": {
          "base_uri": "https://localhost:8080/"
        },
        "id": "59FklTvlwfuQ",
        "outputId": "f874d288-26b2-41c0-b61a-d97310d98fcc"
      },
      "execution_count": 50,
      "outputs": [
        {
          "output_type": "stream",
          "name": "stdout",
          "text": [
            "+----------+----------+-----------+--------------------+------+------------+----------+--------------------+-----+--------+\n",
            "|CustomerID|first_name|  last_name|               email|gender|        city|department|             product|price|newprice|\n",
            "+----------+----------+-----------+--------------------+------+------------+----------+--------------------+-----+--------+\n",
            "|         1|     Cindy|  D' Angelo| cdangelo0@nymag.com|Female|Samut Sakhon|  Outdoors|Jam - Strawberry,...|   91|   101.0|\n",
            "|         2|  Olenolin|    Yarnley| oyarnley1@google.ru|  Male|    Tiantang|     Games|Tea - Darjeeling,...|   75|    85.0|\n",
            "|         3|      Etti|Duckinfield|educkinfield2@mys...|Female|     Lucheng|    Beauty|              Garlic|   99|   109.0|\n",
            "+----------+----------+-----------+--------------------+------+------------+----------+--------------------+-----+--------+\n",
            "only showing top 3 rows\n",
            "\n"
          ]
        }
      ]
    },
    {
      "cell_type": "code",
      "source": [
        "df21 = df21.drop(\"newprice\")"
      ],
      "metadata": {
        "id": "Ro4qh2P-wtRy"
      },
      "execution_count": 51,
      "outputs": []
    },
    {
      "cell_type": "code",
      "source": [
        "df21.show(2)"
      ],
      "metadata": {
        "colab": {
          "base_uri": "https://localhost:8080/"
        },
        "id": "4CvEK96fwxli",
        "outputId": "6a2e2e2c-fb5a-433b-ea94-8ee21eb5cc10"
      },
      "execution_count": 52,
      "outputs": [
        {
          "output_type": "stream",
          "name": "stdout",
          "text": [
            "+----------+----------+---------+-------------------+------+------------+----------+--------------------+-----+\n",
            "|CustomerID|first_name|last_name|              email|gender|        city|department|             product|price|\n",
            "+----------+----------+---------+-------------------+------+------------+----------+--------------------+-----+\n",
            "|         1|     Cindy|D' Angelo|cdangelo0@nymag.com|Female|Samut Sakhon|  Outdoors|Jam - Strawberry,...|   91|\n",
            "|         2|  Olenolin|  Yarnley|oyarnley1@google.ru|  Male|    Tiantang|     Games|Tea - Darjeeling,...|   75|\n",
            "+----------+----------+---------+-------------------+------+------------+----------+--------------------+-----+\n",
            "only showing top 2 rows\n",
            "\n"
          ]
        }
      ]
    },
    {
      "cell_type": "code",
      "source": [
        "df21 = df21.select(\"first_name\",\"email\",\"gender\")"
      ],
      "metadata": {
        "id": "B12oeMHUwyT8"
      },
      "execution_count": 56,
      "outputs": []
    },
    {
      "cell_type": "code",
      "source": [
        "df21.show(1)"
      ],
      "metadata": {
        "colab": {
          "base_uri": "https://localhost:8080/"
        },
        "id": "SErF0u4aw61q",
        "outputId": "e456b8b5-40f1-4682-9aff-27018c6c49e5"
      },
      "execution_count": 57,
      "outputs": [
        {
          "output_type": "stream",
          "name": "stdout",
          "text": [
            "+----------+-------------------+------+\n",
            "|first_name|              email|gender|\n",
            "+----------+-------------------+------+\n",
            "|     Cindy|cdangelo0@nymag.com|Female|\n",
            "+----------+-------------------+------+\n",
            "only showing top 1 row\n",
            "\n"
          ]
        }
      ]
    },
    {
      "cell_type": "code",
      "source": [
        "df2f = df2.filter(df2.gender == 'Male')\n",
        "df2f.count()"
      ],
      "metadata": {
        "colab": {
          "base_uri": "https://localhost:8080/"
        },
        "id": "-b4mr735xhqk",
        "outputId": "31ab5375-245c-4a84-fbf8-ce5109ae5cb6"
      },
      "execution_count": 58,
      "outputs": [
        {
          "output_type": "execute_result",
          "data": {
            "text/plain": [
              "421"
            ]
          },
          "metadata": {},
          "execution_count": 58
        }
      ]
    },
    {
      "cell_type": "code",
      "source": [
        "df2f = df2.where(df2.gender == \"Male\")\n",
        "df2f.count()"
      ],
      "metadata": {
        "colab": {
          "base_uri": "https://localhost:8080/"
        },
        "id": "62sf5H2IyHrT",
        "outputId": "18d2e55e-4dd8-4ce4-8031-4043a2e7392e"
      },
      "execution_count": 59,
      "outputs": [
        {
          "output_type": "execute_result",
          "data": {
            "text/plain": [
              "421"
            ]
          },
          "metadata": {},
          "execution_count": 59
        }
      ]
    },
    {
      "cell_type": "code",
      "source": [
        "df2f = df2.filter(df2['gender'] == \"Male\").count()\n",
        "print(df2f)"
      ],
      "metadata": {
        "colab": {
          "base_uri": "https://localhost:8080/"
        },
        "id": "fCeU1QnlyN4T",
        "outputId": "2fc77835-9404-4653-faea-88bb9b4849c4"
      },
      "execution_count": 62,
      "outputs": [
        {
          "output_type": "stream",
          "name": "stdout",
          "text": [
            "421\n"
          ]
        }
      ]
    },
    {
      "cell_type": "code",
      "source": [
        "df2s = df2.select(\"email\",\"price\").orderBy(df2['price'].desc())\n",
        "df2s.show(3)"
      ],
      "metadata": {
        "colab": {
          "base_uri": "https://localhost:8080/"
        },
        "id": "F_qIP8GxyWKW",
        "outputId": "0733420c-93dd-45a6-8a86-f53ae5cbf181"
      },
      "execution_count": 69,
      "outputs": [
        {
          "output_type": "stream",
          "name": "stdout",
          "text": [
            "+--------------------+-----+\n",
            "|               email|price|\n",
            "+--------------------+-----+\n",
            "|  tbernon41@ning.com|   99|\n",
            "|akarpinski5g@pbs.org|   99|\n",
            "|educkinfield2@mys...|   99|\n",
            "+--------------------+-----+\n",
            "only showing top 3 rows\n",
            "\n"
          ]
        }
      ]
    },
    {
      "cell_type": "code",
      "source": [
        "df2.printSchema()"
      ],
      "metadata": {
        "colab": {
          "base_uri": "https://localhost:8080/"
        },
        "id": "vwaOgDUo3tTP",
        "outputId": "c69899cf-e317-48d4-b6b7-6a3b693b5d5c"
      },
      "execution_count": 66,
      "outputs": [
        {
          "output_type": "stream",
          "name": "stdout",
          "text": [
            "root\n",
            " |-- CustomerID: string (nullable = true)\n",
            " |-- first_name: string (nullable = true)\n",
            " |-- last_name: string (nullable = true)\n",
            " |-- email: string (nullable = true)\n",
            " |-- gender: string (nullable = true)\n",
            " |-- city: string (nullable = true)\n",
            " |-- department: string (nullable = true)\n",
            " |-- product: string (nullable = true)\n",
            " |-- price: string (nullable = true)\n",
            "\n"
          ]
        }
      ]
    },
    {
      "cell_type": "code",
      "source": [
        "df2sa = df2.orderBy(df2['price'].asc())\n",
        "df2sa.show(2)"
      ],
      "metadata": {
        "colab": {
          "base_uri": "https://localhost:8080/"
        },
        "id": "g5jD_qk23j9A",
        "outputId": "893238f0-1c54-41e4-faf8-a053465c3700"
      },
      "execution_count": 71,
      "outputs": [
        {
          "output_type": "stream",
          "name": "stdout",
          "text": [
            "+----------+----------+---------+--------------------+------+-------------+----------+--------------------+-----+\n",
            "|CustomerID|first_name|last_name|               email|gender|         city|department|             product|price|\n",
            "+----------+----------+---------+--------------------+------+-------------+----------+--------------------+-----+\n",
            "|       206|    Briggs|  Shoppee|bshoppee5p@blinkl...|  Male|Souto do Meio|     Music|Lamb - Whole, Frozen|    1|\n",
            "|       449|     Trish|  Antrack|tantrackcg@ustrea...|Female|     Buchanan|Automotive|     Wonton Wrappers|    1|\n",
            "+----------+----------+---------+--------------------+------+-------------+----------+--------------------+-----+\n",
            "only showing top 2 rows\n",
            "\n"
          ]
        }
      ]
    },
    {
      "cell_type": "code",
      "source": [
        "df2dups = df2.dropDuplicates()\n",
        "df2dups = df2.distinct()\n",
        "df2dups = df2.dropDuplicates([\"city\"])\n",
        "df2dups.count()"
      ],
      "metadata": {
        "colab": {
          "base_uri": "https://localhost:8080/"
        },
        "id": "fndAKXhJ4LRS",
        "outputId": "cd87c35e-4341-4181-a3bb-9bfca9a7a5ee"
      },
      "execution_count": 75,
      "outputs": [
        {
          "output_type": "execute_result",
          "data": {
            "text/plain": [
              "978"
            ]
          },
          "metadata": {},
          "execution_count": 75
        }
      ]
    },
    {
      "cell_type": "code",
      "source": [
        "df2city = df2.groupBy(\"city\").count()\n",
        "df2city.select(\"city\",\"count\").filter(df2city[\"count\"]>1).orderBy(df2city[\"count\"].desc()).show()"
      ],
      "metadata": {
        "colab": {
          "base_uri": "https://localhost:8080/"
        },
        "id": "bCKxweBj4U-8",
        "outputId": "f68f25a4-aa1c-450e-eac7-958827d98a8d"
      },
      "execution_count": 84,
      "outputs": [
        {
          "output_type": "stream",
          "name": "stdout",
          "text": [
            "+-------------+-----+\n",
            "|         city|count|\n",
            "+-------------+-----+\n",
            "|    Stockholm|    5|\n",
            "|  Montpellier|    3|\n",
            "|  Santa Lucia|    2|\n",
            "|    Trondheim|    2|\n",
            "|San Francisco|    2|\n",
            "|    San Diego|    2|\n",
            "|     Cruzeiro|    2|\n",
            "| Wiyayu Barat|    2|\n",
            "|      El Paso|    2|\n",
            "|    Omsukchan|    2|\n",
            "|  Helsingborg|    2|\n",
            "|      Madimba|    2|\n",
            "| Buenos Aires|    2|\n",
            "|      Yong’an|    2|\n",
            "|         Pejë|    2|\n",
            "|       Persen|    2|\n",
            "|Benito Juarez|    2|\n",
            "|         Jami|    2|\n",
            "+-------------+-----+\n",
            "\n"
          ]
        }
      ]
    },
    {
      "cell_type": "code",
      "source": [
        "dfu1 = df2\n",
        "dfu2 = df2"
      ],
      "metadata": {
        "id": "Vsklw0fA4sK4"
      },
      "execution_count": 85,
      "outputs": []
    },
    {
      "cell_type": "code",
      "source": [
        "dfunion = dfu1.union(dfu2)"
      ],
      "metadata": {
        "id": "SV-Dpe6B5bf4"
      },
      "execution_count": 86,
      "outputs": []
    },
    {
      "cell_type": "code",
      "source": [
        "dfunion.count()"
      ],
      "metadata": {
        "colab": {
          "base_uri": "https://localhost:8080/"
        },
        "id": "Yn9r8ySr5drs",
        "outputId": "a75a8c50-58b4-4d23-ab73-bb266c019eb3"
      },
      "execution_count": 87,
      "outputs": [
        {
          "output_type": "execute_result",
          "data": {
            "text/plain": [
              "2000"
            ]
          },
          "metadata": {},
          "execution_count": 87
        }
      ]
    },
    {
      "cell_type": "code",
      "source": [
        "dfdrpdup = dfunion.dropDuplicates()\n",
        "dfdrpdup.count()"
      ],
      "metadata": {
        "colab": {
          "base_uri": "https://localhost:8080/"
        },
        "id": "mXLtWWLb5eoR",
        "outputId": "a68d266e-b382-4d6c-f3d9-ffcdcd8e9e13"
      },
      "execution_count": 89,
      "outputs": [
        {
          "output_type": "execute_result",
          "data": {
            "text/plain": [
              "1000"
            ]
          },
          "metadata": {},
          "execution_count": 89
        }
      ]
    },
    {
      "cell_type": "code",
      "source": [],
      "metadata": {
        "id": "l6AGukJk5inK"
      },
      "execution_count": null,
      "outputs": []
    }
  ]
}